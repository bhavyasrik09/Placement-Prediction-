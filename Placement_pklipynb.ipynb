{
  "nbformat": 4,
  "nbformat_minor": 0,
  "metadata": {
    "colab": {
      "provenance": []
    },
    "kernelspec": {
      "name": "python3",
      "display_name": "Python 3"
    },
    "language_info": {
      "name": "python"
    }
  },
  "cells": [
    {
      "cell_type": "code",
      "source": [
        "!pip install joblib"
      ],
      "metadata": {
        "colab": {
          "base_uri": "https://localhost:8080/"
        },
        "id": "6tmEyXnE07Yn",
        "outputId": "1146c38a-21d8-475c-cdd2-5b5c452a4f5b"
      },
      "execution_count": null,
      "outputs": [
        {
          "output_type": "stream",
          "name": "stdout",
          "text": [
            "Requirement already satisfied: joblib in /usr/local/lib/python3.10/dist-packages (1.4.2)\n"
          ]
        }
      ]
    },
    {
      "cell_type": "code",
      "source": [
        "import joblib\n",
        "import numpy as np\n"
      ],
      "metadata": {
        "id": "EuBiQjPf0-IW"
      },
      "execution_count": null,
      "outputs": []
    },
    {
      "cell_type": "code",
      "source": [
        "model = joblib.load('/content/Placement_data_full_class.pkl')"
      ],
      "metadata": {
        "id": "gQJPw3Vm1Dzd"
      },
      "execution_count": null,
      "outputs": []
    },
    {
      "cell_type": "code",
      "source": [
        "def get_input(prompt, valid_values=None, input_type=float):\n",
        "    while True:\n",
        "        try:\n",
        "            user_input = input_type(input(prompt))\n",
        "            if valid_values and user_input not in valid_values:\n",
        "                raise ValueError(f\"Input must be one of {valid_values}.\")\n",
        "            return user_input\n",
        "        except ValueError as e:\n",
        "            print(f\"Invalid input. {e}\")"
      ],
      "metadata": {
        "id": "GSUVETs71Md3"
      },
      "execution_count": null,
      "outputs": []
    },
    {
      "cell_type": "code",
      "source": [
        "# Collect user inputs\n",
        "age = get_input('Enter age: ', input_type=float)\n",
        "gender = get_input('Enter gender (1 = male; 0 = female): ', valid_values=[0, 1], input_type=int)\n",
        "education = get_input('Enter education level (1 = undergraduate; 2 = graduate): ', valid_values=[1, 2], input_type=int)\n",
        "gpa = get_input('Enter GPA: ', input_type=float)\n",
        "experience = get_input('Enter years of relevant work experience: ', input_type=float)\n",
        "skills = get_input('Enter skills proficiency level (0-10): ', valid_values=range(11), input_type=int)\n",
        "extracurricular = get_input('Participation in extracurricular activities (1 = yes; 0 = no): ', valid_values=[0, 1], input_type=int)\n",
        "internships = get_input('Number of internships or relevant projects completed: ', input_type=int)\n",
        "location = get_input('Is the student in a preferred location? (1 = yes; 0 = no): ', valid_values=[0, 1], input_type=int)\n",
        "\n",
        "# Prepare data for prediction\n",
        "input_data = np.array([[age, gender, education, gpa, experience, skills, extracurricular, internships, location]])\n",
        "\n",
        "# Make prediction\n",
        "try:\n",
        "    prediction = model.predict(input_data)\n",
        "    # Output the prediction\n",
        "    print('Placement prediction (1 = placed; 0 = not placed):', prediction[0])\n",
        "except Exception as e:\n",
        "    print(f\"An error occurred during prediction: {e}\")"
      ],
      "metadata": {
        "colab": {
          "base_uri": "https://localhost:8080/"
        },
        "id": "3Hog4aBr1abw",
        "outputId": "92640b6e-43e5-4fbd-e6f7-42f1f79aa1c8"
      },
      "execution_count": null,
      "outputs": [
        {
          "output_type": "stream",
          "name": "stdout",
          "text": [
            "Enter age: 20\n",
            "Enter gender (1 = male; 0 = female): 0\n",
            "Enter education level (1 = undergraduate; 2 = graduate): 1\n",
            "Enter GPA: 0\n",
            "Enter years of relevant work experience: 0\n",
            "Enter skills proficiency level (0-10): 0\n",
            "Participation in extracurricular activities (1 = yes; 0 = no): 0\n",
            "Number of internships or relevant projects completed: 0\n",
            "Is the student in a preferred location? (1 = yes; 0 = no): 0\n",
            "An error occurred during prediction: name 'model' is not defined\n"
          ]
        }
      ]
    }
  ]
}